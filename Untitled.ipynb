{
 "cells": [
  {
   "cell_type": "code",
   "execution_count": 12,
   "id": "52a9556c-55c6-4d99-9cd4-c03baae4b5b4",
   "metadata": {},
   "outputs": [
    {
     "data": {
      "text/plain": [
       "(tensor([[-0.1108, -0.0950, -0.0017],\n",
       "         [-0.1108, -0.0950, -0.0017],\n",
       "         [-0.1108, -0.0950, -0.0017],\n",
       "         [-0.1108, -0.0950, -0.0017],\n",
       "         [-0.1108, -0.0950, -0.0017],\n",
       "         [-0.1108, -0.0950, -0.0017],\n",
       "         [-0.1108, -0.0950, -0.0017],\n",
       "         [-0.1108, -0.0950, -0.0017],\n",
       "         [-0.1108, -0.0950, -0.0017],\n",
       "         [-0.1108, -0.0950, -0.0017],\n",
       "         [-0.1108, -0.0950, -0.0017],\n",
       "         [-0.1108, -0.0950, -0.0017],\n",
       "         [-0.1108, -0.0950, -0.0017],\n",
       "         [-0.1108, -0.0950, -0.0017],\n",
       "         [-0.1108, -0.0950, -0.0017],\n",
       "         [-0.1108, -0.0950, -0.0017],\n",
       "         [-0.1108, -0.0950, -0.0017],\n",
       "         [-0.1108, -0.0950, -0.0017],\n",
       "         [-0.1108, -0.0950, -0.0017],\n",
       "         [-0.1108, -0.0950, -0.0017],\n",
       "         [-0.1108, -0.0950, -0.0017],\n",
       "         [-0.1108, -0.0950, -0.0017],\n",
       "         [-0.1108, -0.0950, -0.0017],\n",
       "         [-0.1108, -0.0950, -0.0017],\n",
       "         [-0.1108, -0.0950, -0.0017],\n",
       "         [-0.1108, -0.0950, -0.0017],\n",
       "         [-0.1108, -0.0950, -0.0017],\n",
       "         [-0.1108, -0.0950, -0.0017],\n",
       "         [-0.1108, -0.0950, -0.0017],\n",
       "         [-0.1108, -0.0950, -0.0017],\n",
       "         [-0.1108, -0.0950, -0.0017],\n",
       "         [-0.1108, -0.0950, -0.0017]], grad_fn=<MmBackward0>),)"
      ]
     },
     "execution_count": 12,
     "metadata": {},
     "output_type": "execute_result"
    }
   ],
   "source": [
    "import torch\n",
    "from torch import nn\n",
    "model = nn.Sequential(\n",
    "    nn.Linear(3, 10),\n",
    "    nn.Linear(10, 3)\n",
    ")\n",
    "\n",
    "r = torch.randn(32, 3, requires_grad = True)\n",
    "\n",
    "B = model(r)\n",
    "\n",
    "Bx = B[:, 0]\n",
    "By = B[:, 1]\n",
    "Bz = B[:, 2]\n",
    "\n",
    "torch.autograd.grad(\n",
    "    inputs = r,\n",
    "    outputs = Bx,\n",
    "    grad_outputs = torch.ones_like(Bx),\n",
    "    retain_graph = True,\n",
    "    create_graph = True\n",
    ")"
   ]
  },
  {
   "cell_type": "code",
   "execution_count": null,
   "id": "75697136-6164-4490-8f99-c954037b500d",
   "metadata": {},
   "outputs": [],
   "source": []
  }
 ],
 "metadata": {
  "kernelspec": {
   "display_name": "Python 3 (ipykernel)",
   "language": "python",
   "name": "python3"
  },
  "language_info": {
   "codemirror_mode": {
    "name": "ipython",
    "version": 3
   },
   "file_extension": ".py",
   "mimetype": "text/x-python",
   "name": "python",
   "nbconvert_exporter": "python",
   "pygments_lexer": "ipython3",
   "version": "3.11.9"
  }
 },
 "nbformat": 4,
 "nbformat_minor": 5
}
